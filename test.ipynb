{
 "cells": [
  {
   "cell_type": "code",
   "execution_count": 2,
   "id": "a52ac999",
   "metadata": {},
   "outputs": [
    {
     "name": "stdout",
     "output_type": "stream",
     "text": [
      "bye!\n"
     ]
    }
   ],
   "source": [
    "import random\n",
    "\n",
    "score = 100\n",
    "random_number = random.randint(1, 100)\n",
    "\n",
    "while True:\n",
    "    input_number = input(\"Enter a number between 1 and 100:\")\n",
    "    if input_number == \"q\":\n",
    "        print(\"bye!\")\n",
    "        break\n",
    "    if not input_number.isdigit():\n",
    "        print(\"please enter a valid number!\")\n",
    "        continue\n",
    "    guess_number = int(input_number)\n",
    "    if guess_number < random_number:\n",
    "        print(\"Your guess is too low!\")\n",
    "        score -= 10\n",
    "    elif guess_number > random_number:\n",
    "        print(\"Your guess is too high\")\n",
    "        score -= 10\n",
    "    else:\n",
    "        score = max(score, 0)\n",
    "        print(f\"your guess is correct number! and your score is: {score}\")\n",
    "        break"
   ]
  },
  {
   "cell_type": "code",
   "execution_count": null,
   "id": "4eda702c",
   "metadata": {},
   "outputs": [],
   "source": []
  }
 ],
 "metadata": {
  "kernelspec": {
   "display_name": "env-1",
   "language": "python",
   "name": "python3"
  },
  "language_info": {
   "codemirror_mode": {
    "name": "ipython",
    "version": 3
   },
   "file_extension": ".py",
   "mimetype": "text/x-python",
   "name": "python",
   "nbconvert_exporter": "python",
   "pygments_lexer": "ipython3",
   "version": "3.12.11"
  }
 },
 "nbformat": 4,
 "nbformat_minor": 5
}
